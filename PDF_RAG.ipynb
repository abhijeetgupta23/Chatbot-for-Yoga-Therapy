{
 "cells": [
  {
   "cell_type": "code",
   "execution_count": 13,
   "metadata": {},
   "outputs": [
    {
     "name": "stdout",
     "output_type": "stream",
     "text": [
      "Overwriting requirements.txt\n"
     ]
    }
   ],
   "source": [
    "%%writefile requirements.txt\n",
    "langchain\n",
    "langchain-community\n",
    "llama-parse\n",
    "fastembed\n",
    "chromadb\n",
    "python-dotenv\n",
    "langchain-groq\n",
    "chainlit\n",
    "fastembed\n",
    "unstructured[md]"
   ]
  },
  {
   "cell_type": "code",
   "execution_count": 14,
   "metadata": {},
   "outputs": [
    {
     "name": "stdout",
     "output_type": "stream",
     "text": [
      "Requirement already satisfied: langchain in c:\\users\\abhij\\appdata\\local\\packages\\pythonsoftwarefoundation.python.3.11_qbz5n2kfra8p0\\localcache\\local-packages\\python311\\site-packages (from -r requirements.txt (line 1)) (0.2.3)\n",
      "Requirement already satisfied: langchain-community in c:\\users\\abhij\\appdata\\local\\packages\\pythonsoftwarefoundation.python.3.11_qbz5n2kfra8p0\\localcache\\local-packages\\python311\\site-packages (from -r requirements.txt (line 2)) (0.2.1)\n",
      "Requirement already satisfied: llama-parse in c:\\users\\abhij\\appdata\\local\\packages\\pythonsoftwarefoundation.python.3.11_qbz5n2kfra8p0\\localcache\\local-packages\\python311\\site-packages (from -r requirements.txt (line 3)) (0.4.4)\n",
      "Requirement already satisfied: fastembed in c:\\users\\abhij\\appdata\\local\\packages\\pythonsoftwarefoundation.python.3.11_qbz5n2kfra8p0\\localcache\\local-packages\\python311\\site-packages (from -r requirements.txt (line 4)) (0.2.6)\n",
      "Requirement already satisfied: chromadb in c:\\users\\abhij\\appdata\\local\\packages\\pythonsoftwarefoundation.python.3.11_qbz5n2kfra8p0\\localcache\\local-packages\\python311\\site-packages (from -r requirements.txt (line 5)) (0.5.0)\n",
      "Requirement already satisfied: python-dotenv in c:\\users\\abhij\\appdata\\local\\packages\\pythonsoftwarefoundation.python.3.11_qbz5n2kfra8p0\\localcache\\local-packages\\python311\\site-packages (from -r requirements.txt (line 6)) (1.0.1)\n",
      "Requirement already satisfied: langchain-groq in c:\\users\\abhij\\appdata\\local\\packages\\pythonsoftwarefoundation.python.3.11_qbz5n2kfra8p0\\localcache\\local-packages\\python311\\site-packages (from -r requirements.txt (line 7)) (0.1.5)\n",
      "Requirement already satisfied: chainlit in c:\\users\\abhij\\appdata\\local\\packages\\pythonsoftwarefoundation.python.3.11_qbz5n2kfra8p0\\localcache\\local-packages\\python311\\site-packages (from -r requirements.txt (line 8)) (1.1.301)\n",
      "Requirement already satisfied: unstructured[md] in c:\\users\\abhij\\appdata\\local\\packages\\pythonsoftwarefoundation.python.3.11_qbz5n2kfra8p0\\localcache\\local-packages\\python311\\site-packages (from -r requirements.txt (line 10)) (0.14.6)\n",
      "Requirement already satisfied: PyYAML>=5.3 in c:\\users\\abhij\\appdata\\local\\packages\\pythonsoftwarefoundation.python.3.11_qbz5n2kfra8p0\\localcache\\local-packages\\python311\\site-packages (from langchain->-r requirements.txt (line 1)) (6.0.1)\n",
      "Requirement already satisfied: SQLAlchemy<3,>=1.4 in c:\\users\\abhij\\appdata\\local\\packages\\pythonsoftwarefoundation.python.3.11_qbz5n2kfra8p0\\localcache\\local-packages\\python311\\site-packages (from langchain->-r requirements.txt (line 1)) (2.0.30)\n",
      "Requirement already satisfied: aiohttp<4.0.0,>=3.8.3 in c:\\users\\abhij\\appdata\\local\\packages\\pythonsoftwarefoundation.python.3.11_qbz5n2kfra8p0\\localcache\\local-packages\\python311\\site-packages (from langchain->-r requirements.txt (line 1)) (3.9.3)\n",
      "Requirement already satisfied: langchain-core<0.3.0,>=0.2.0 in c:\\users\\abhij\\appdata\\local\\packages\\pythonsoftwarefoundation.python.3.11_qbz5n2kfra8p0\\localcache\\local-packages\\python311\\site-packages (from langchain->-r requirements.txt (line 1)) (0.2.2)\n",
      "Requirement already satisfied: langchain-text-splitters<0.3.0,>=0.2.0 in c:\\users\\abhij\\appdata\\local\\packages\\pythonsoftwarefoundation.python.3.11_qbz5n2kfra8p0\\localcache\\local-packages\\python311\\site-packages (from langchain->-r requirements.txt (line 1)) (0.2.0)\n",
      "Requirement already satisfied: langsmith<0.2.0,>=0.1.17 in c:\\users\\abhij\\appdata\\local\\packages\\pythonsoftwarefoundation.python.3.11_qbz5n2kfra8p0\\localcache\\local-packages\\python311\\site-packages (from langchain->-r requirements.txt (line 1)) (0.1.65)\n",
      "Requirement already satisfied: numpy<2,>=1 in c:\\users\\abhij\\appdata\\local\\packages\\pythonsoftwarefoundation.python.3.11_qbz5n2kfra8p0\\localcache\\local-packages\\python311\\site-packages (from langchain->-r requirements.txt (line 1)) (1.26.4)\n",
      "Requirement already satisfied: pydantic<3,>=1 in c:\\users\\abhij\\appdata\\local\\packages\\pythonsoftwarefoundation.python.3.11_qbz5n2kfra8p0\\localcache\\local-packages\\python311\\site-packages (from langchain->-r requirements.txt (line 1)) (1.10.15)\n",
      "Requirement already satisfied: requests<3,>=2 in c:\\users\\abhij\\appdata\\local\\packages\\pythonsoftwarefoundation.python.3.11_qbz5n2kfra8p0\\localcache\\local-packages\\python311\\site-packages (from langchain->-r requirements.txt (line 1)) (2.32.3)\n",
      "Requirement already satisfied: tenacity<9.0.0,>=8.1.0 in c:\\users\\abhij\\appdata\\local\\packages\\pythonsoftwarefoundation.python.3.11_qbz5n2kfra8p0\\localcache\\local-packages\\python311\\site-packages (from langchain->-r requirements.txt (line 1)) (8.3.0)\n",
      "Requirement already satisfied: dataclasses-json<0.7,>=0.5.7 in c:\\users\\abhij\\appdata\\local\\packages\\pythonsoftwarefoundation.python.3.11_qbz5n2kfra8p0\\localcache\\local-packages\\python311\\site-packages (from langchain-community->-r requirements.txt (line 2)) (0.5.14)\n",
      "Requirement already satisfied: llama-index-core>=0.10.29 in c:\\users\\abhij\\appdata\\local\\packages\\pythonsoftwarefoundation.python.3.11_qbz5n2kfra8p0\\localcache\\local-packages\\python311\\site-packages (from llama-parse->-r requirements.txt (line 3)) (0.10.40)\n",
      "Requirement already satisfied: huggingface-hub<0.21,>=0.20 in c:\\users\\abhij\\appdata\\local\\packages\\pythonsoftwarefoundation.python.3.11_qbz5n2kfra8p0\\localcache\\local-packages\\python311\\site-packages (from fastembed->-r requirements.txt (line 4)) (0.20.3)\n",
      "Requirement already satisfied: loguru<0.8.0,>=0.7.2 in c:\\users\\abhij\\appdata\\local\\packages\\pythonsoftwarefoundation.python.3.11_qbz5n2kfra8p0\\localcache\\local-packages\\python311\\site-packages (from fastembed->-r requirements.txt (line 4)) (0.7.2)\n",
      "Requirement already satisfied: onnx<2.0.0,>=1.15.0 in c:\\users\\abhij\\appdata\\local\\packages\\pythonsoftwarefoundation.python.3.11_qbz5n2kfra8p0\\localcache\\local-packages\\python311\\site-packages (from fastembed->-r requirements.txt (line 4)) (1.16.1)\n",
      "Requirement already satisfied: onnxruntime<2.0.0,>=1.17.0 in c:\\users\\abhij\\appdata\\local\\packages\\pythonsoftwarefoundation.python.3.11_qbz5n2kfra8p0\\localcache\\local-packages\\python311\\site-packages (from fastembed->-r requirements.txt (line 4)) (1.18.0)\n",
      "Requirement already satisfied: tokenizers<0.16.0,>=0.15.1 in c:\\users\\abhij\\appdata\\local\\packages\\pythonsoftwarefoundation.python.3.11_qbz5n2kfra8p0\\localcache\\local-packages\\python311\\site-packages (from fastembed->-r requirements.txt (line 4)) (0.15.2)\n",
      "Requirement already satisfied: tqdm<5.0,>=4.66 in c:\\users\\abhij\\appdata\\local\\packages\\pythonsoftwarefoundation.python.3.11_qbz5n2kfra8p0\\localcache\\local-packages\\python311\\site-packages (from fastembed->-r requirements.txt (line 4)) (4.66.1)\n",
      "Requirement already satisfied: build>=1.0.3 in c:\\users\\abhij\\appdata\\local\\packages\\pythonsoftwarefoundation.python.3.11_qbz5n2kfra8p0\\localcache\\local-packages\\python311\\site-packages (from chromadb->-r requirements.txt (line 5)) (1.2.1)\n",
      "Requirement already satisfied: chroma-hnswlib==0.7.3 in c:\\users\\abhij\\appdata\\local\\packages\\pythonsoftwarefoundation.python.3.11_qbz5n2kfra8p0\\localcache\\local-packages\\python311\\site-packages (from chromadb->-r requirements.txt (line 5)) (0.7.3)\n",
      "Requirement already satisfied: fastapi>=0.95.2 in c:\\users\\abhij\\appdata\\local\\packages\\pythonsoftwarefoundation.python.3.11_qbz5n2kfra8p0\\localcache\\local-packages\\python311\\site-packages (from chromadb->-r requirements.txt (line 5)) (0.110.3)\n",
      "Requirement already satisfied: uvicorn>=0.18.3 in c:\\users\\abhij\\appdata\\local\\packages\\pythonsoftwarefoundation.python.3.11_qbz5n2kfra8p0\\localcache\\local-packages\\python311\\site-packages (from uvicorn[standard]>=0.18.3->chromadb->-r requirements.txt (line 5)) (0.25.0)\n",
      "Requirement already satisfied: posthog>=2.4.0 in c:\\users\\abhij\\appdata\\local\\packages\\pythonsoftwarefoundation.python.3.11_qbz5n2kfra8p0\\localcache\\local-packages\\python311\\site-packages (from chromadb->-r requirements.txt (line 5)) (3.5.0)\n",
      "Requirement already satisfied: typing-extensions>=4.5.0 in c:\\users\\abhij\\appdata\\local\\packages\\pythonsoftwarefoundation.python.3.11_qbz5n2kfra8p0\\localcache\\local-packages\\python311\\site-packages (from chromadb->-r requirements.txt (line 5)) (4.10.0)\n",
      "Requirement already satisfied: opentelemetry-api>=1.2.0 in c:\\users\\abhij\\appdata\\local\\packages\\pythonsoftwarefoundation.python.3.11_qbz5n2kfra8p0\\localcache\\local-packages\\python311\\site-packages (from chromadb->-r requirements.txt (line 5)) (1.24.0)\n",
      "Requirement already satisfied: opentelemetry-exporter-otlp-proto-grpc>=1.2.0 in c:\\users\\abhij\\appdata\\local\\packages\\pythonsoftwarefoundation.python.3.11_qbz5n2kfra8p0\\localcache\\local-packages\\python311\\site-packages (from chromadb->-r requirements.txt (line 5)) (1.24.0)\n",
      "Requirement already satisfied: opentelemetry-instrumentation-fastapi>=0.41b0 in c:\\users\\abhij\\appdata\\local\\packages\\pythonsoftwarefoundation.python.3.11_qbz5n2kfra8p0\\localcache\\local-packages\\python311\\site-packages (from chromadb->-r requirements.txt (line 5)) (0.45b0)\n",
      "Requirement already satisfied: opentelemetry-sdk>=1.2.0 in c:\\users\\abhij\\appdata\\local\\packages\\pythonsoftwarefoundation.python.3.11_qbz5n2kfra8p0\\localcache\\local-packages\\python311\\site-packages (from chromadb->-r requirements.txt (line 5)) (1.24.0)\n",
      "Requirement already satisfied: pypika>=0.48.9 in c:\\users\\abhij\\appdata\\local\\packages\\pythonsoftwarefoundation.python.3.11_qbz5n2kfra8p0\\localcache\\local-packages\\python311\\site-packages (from chromadb->-r requirements.txt (line 5)) (0.48.9)\n",
      "Requirement already satisfied: overrides>=7.3.1 in c:\\users\\abhij\\appdata\\local\\packages\\pythonsoftwarefoundation.python.3.11_qbz5n2kfra8p0\\localcache\\local-packages\\python311\\site-packages (from chromadb->-r requirements.txt (line 5)) (7.7.0)\n",
      "Requirement already satisfied: importlib-resources in c:\\users\\abhij\\appdata\\local\\packages\\pythonsoftwarefoundation.python.3.11_qbz5n2kfra8p0\\localcache\\local-packages\\python311\\site-packages (from chromadb->-r requirements.txt (line 5)) (6.4.0)\n",
      "Requirement already satisfied: grpcio>=1.58.0 in c:\\users\\abhij\\appdata\\local\\packages\\pythonsoftwarefoundation.python.3.11_qbz5n2kfra8p0\\localcache\\local-packages\\python311\\site-packages (from chromadb->-r requirements.txt (line 5)) (1.64.0)\n",
      "Requirement already satisfied: bcrypt>=4.0.1 in c:\\users\\abhij\\appdata\\local\\packages\\pythonsoftwarefoundation.python.3.11_qbz5n2kfra8p0\\localcache\\local-packages\\python311\\site-packages (from chromadb->-r requirements.txt (line 5)) (4.0.1)\n",
      "Requirement already satisfied: typer>=0.9.0 in c:\\users\\abhij\\appdata\\local\\packages\\pythonsoftwarefoundation.python.3.11_qbz5n2kfra8p0\\localcache\\local-packages\\python311\\site-packages (from chromadb->-r requirements.txt (line 5)) (0.12.3)\n",
      "Requirement already satisfied: kubernetes>=28.1.0 in c:\\users\\abhij\\appdata\\local\\packages\\pythonsoftwarefoundation.python.3.11_qbz5n2kfra8p0\\localcache\\local-packages\\python311\\site-packages (from chromadb->-r requirements.txt (line 5)) (29.0.0)\n",
      "Requirement already satisfied: mmh3>=4.0.1 in c:\\users\\abhij\\appdata\\local\\packages\\pythonsoftwarefoundation.python.3.11_qbz5n2kfra8p0\\localcache\\local-packages\\python311\\site-packages (from chromadb->-r requirements.txt (line 5)) (4.1.0)\n",
      "Requirement already satisfied: orjson>=3.9.12 in c:\\users\\abhij\\appdata\\local\\packages\\pythonsoftwarefoundation.python.3.11_qbz5n2kfra8p0\\localcache\\local-packages\\python311\\site-packages (from chromadb->-r requirements.txt (line 5)) (3.10.3)\n",
      "Requirement already satisfied: groq<1,>=0.4.1 in c:\\users\\abhij\\appdata\\local\\packages\\pythonsoftwarefoundation.python.3.11_qbz5n2kfra8p0\\localcache\\local-packages\\python311\\site-packages (from langchain-groq->-r requirements.txt (line 7)) (0.9.0)\n",
      "Requirement already satisfied: aiofiles<24.0.0,>=23.1.0 in c:\\users\\abhij\\appdata\\local\\packages\\pythonsoftwarefoundation.python.3.11_qbz5n2kfra8p0\\localcache\\local-packages\\python311\\site-packages (from chainlit->-r requirements.txt (line 8)) (23.2.1)\n",
      "Requirement already satisfied: asyncer<0.0.3,>=0.0.2 in c:\\users\\abhij\\appdata\\local\\packages\\pythonsoftwarefoundation.python.3.11_qbz5n2kfra8p0\\localcache\\local-packages\\python311\\site-packages (from chainlit->-r requirements.txt (line 8)) (0.0.2)\n",
      "Requirement already satisfied: click<9.0.0,>=8.1.3 in c:\\users\\abhij\\appdata\\local\\packages\\pythonsoftwarefoundation.python.3.11_qbz5n2kfra8p0\\localcache\\local-packages\\python311\\site-packages (from chainlit->-r requirements.txt (line 8)) (8.1.7)\n",
      "Requirement already satisfied: filetype<2.0.0,>=1.2.0 in c:\\users\\abhij\\appdata\\local\\packages\\pythonsoftwarefoundation.python.3.11_qbz5n2kfra8p0\\localcache\\local-packages\\python311\\site-packages (from chainlit->-r requirements.txt (line 8)) (1.2.0)\n",
      "Requirement already satisfied: httpx>=0.23.0 in c:\\users\\abhij\\appdata\\local\\packages\\pythonsoftwarefoundation.python.3.11_qbz5n2kfra8p0\\localcache\\local-packages\\python311\\site-packages (from chainlit->-r requirements.txt (line 8)) (0.27.0)\n",
      "Requirement already satisfied: lazify<0.5.0,>=0.4.0 in c:\\users\\abhij\\appdata\\local\\packages\\pythonsoftwarefoundation.python.3.11_qbz5n2kfra8p0\\localcache\\local-packages\\python311\\site-packages (from chainlit->-r requirements.txt (line 8)) (0.4.0)\n",
      "Requirement already satisfied: literalai==0.0.604 in c:\\users\\abhij\\appdata\\local\\packages\\pythonsoftwarefoundation.python.3.11_qbz5n2kfra8p0\\localcache\\local-packages\\python311\\site-packages (from chainlit->-r requirements.txt (line 8)) (0.0.604)\n",
      "Requirement already satisfied: nest-asyncio<2.0.0,>=1.5.6 in c:\\users\\abhij\\appdata\\local\\packages\\pythonsoftwarefoundation.python.3.11_qbz5n2kfra8p0\\localcache\\local-packages\\python311\\site-packages (from chainlit->-r requirements.txt (line 8)) (1.6.0)\n",
      "Requirement already satisfied: packaging<24.0,>=23.1 in c:\\users\\abhij\\appdata\\local\\packages\\pythonsoftwarefoundation.python.3.11_qbz5n2kfra8p0\\localcache\\local-packages\\python311\\site-packages (from chainlit->-r requirements.txt (line 8)) (23.2)\n",
      "Requirement already satisfied: pyjwt<3.0.0,>=2.8.0 in c:\\users\\abhij\\appdata\\local\\packages\\pythonsoftwarefoundation.python.3.11_qbz5n2kfra8p0\\localcache\\local-packages\\python311\\site-packages (from chainlit->-r requirements.txt (line 8)) (2.8.0)\n",
      "Requirement already satisfied: python-multipart<0.0.10,>=0.0.9 in c:\\users\\abhij\\appdata\\local\\packages\\pythonsoftwarefoundation.python.3.11_qbz5n2kfra8p0\\localcache\\local-packages\\python311\\site-packages (from chainlit->-r requirements.txt (line 8)) (0.0.9)\n",
      "Requirement already satisfied: python-socketio<6.0.0,>=5.11.0 in c:\\users\\abhij\\appdata\\local\\packages\\pythonsoftwarefoundation.python.3.11_qbz5n2kfra8p0\\localcache\\local-packages\\python311\\site-packages (from chainlit->-r requirements.txt (line 8)) (5.11.2)\n",
      "Requirement already satisfied: starlette<0.38.0,>=0.37.2 in c:\\users\\abhij\\appdata\\local\\packages\\pythonsoftwarefoundation.python.3.11_qbz5n2kfra8p0\\localcache\\local-packages\\python311\\site-packages (from chainlit->-r requirements.txt (line 8)) (0.37.2)\n",
      "Requirement already satisfied: syncer<3.0.0,>=2.0.3 in c:\\users\\abhij\\appdata\\local\\packages\\pythonsoftwarefoundation.python.3.11_qbz5n2kfra8p0\\localcache\\local-packages\\python311\\site-packages (from chainlit->-r requirements.txt (line 8)) (2.0.3)\n",
      "Requirement already satisfied: tomli<3.0.0,>=2.0.1 in c:\\users\\abhij\\appdata\\local\\packages\\pythonsoftwarefoundation.python.3.11_qbz5n2kfra8p0\\localcache\\local-packages\\python311\\site-packages (from chainlit->-r requirements.txt (line 8)) (2.0.1)\n",
      "Requirement already satisfied: uptrace<2.0.0,>=1.22.0 in c:\\users\\abhij\\appdata\\local\\packages\\pythonsoftwarefoundation.python.3.11_qbz5n2kfra8p0\\localcache\\local-packages\\python311\\site-packages (from chainlit->-r requirements.txt (line 8)) (1.24.0)\n",
      "Requirement already satisfied: watchfiles<0.21.0,>=0.20.0 in c:\\users\\abhij\\appdata\\local\\packages\\pythonsoftwarefoundation.python.3.11_qbz5n2kfra8p0\\localcache\\local-packages\\python311\\site-packages (from chainlit->-r requirements.txt (line 8)) (0.20.0)\n",
      "Requirement already satisfied: chevron>=0.14.0 in c:\\users\\abhij\\appdata\\local\\packages\\pythonsoftwarefoundation.python.3.11_qbz5n2kfra8p0\\localcache\\local-packages\\python311\\site-packages (from literalai==0.0.604->chainlit->-r requirements.txt (line 8)) (0.14.0)\n",
      "Requirement already satisfied: chardet in c:\\users\\abhij\\appdata\\local\\packages\\pythonsoftwarefoundation.python.3.11_qbz5n2kfra8p0\\localcache\\local-packages\\python311\\site-packages (from unstructured[md]->-r requirements.txt (line 10)) (4.0.0)\n",
      "Requirement already satisfied: python-magic in c:\\users\\abhij\\appdata\\local\\packages\\pythonsoftwarefoundation.python.3.11_qbz5n2kfra8p0\\localcache\\local-packages\\python311\\site-packages (from unstructured[md]->-r requirements.txt (line 10)) (0.4.27)\n",
      "Requirement already satisfied: lxml in c:\\users\\abhij\\appdata\\local\\packages\\pythonsoftwarefoundation.python.3.11_qbz5n2kfra8p0\\localcache\\local-packages\\python311\\site-packages (from unstructured[md]->-r requirements.txt (line 10)) (5.2.1)\n",
      "Requirement already satisfied: nltk in c:\\users\\abhij\\appdata\\local\\packages\\pythonsoftwarefoundation.python.3.11_qbz5n2kfra8p0\\localcache\\local-packages\\python311\\site-packages (from unstructured[md]->-r requirements.txt (line 10)) (3.8.1)\n",
      "Requirement already satisfied: tabulate in c:\\users\\abhij\\appdata\\local\\packages\\pythonsoftwarefoundation.python.3.11_qbz5n2kfra8p0\\localcache\\local-packages\\python311\\site-packages (from unstructured[md]->-r requirements.txt (line 10)) (0.9.0)\n",
      "Requirement already satisfied: beautifulsoup4 in c:\\users\\abhij\\appdata\\local\\packages\\pythonsoftwarefoundation.python.3.11_qbz5n2kfra8p0\\localcache\\local-packages\\python311\\site-packages (from unstructured[md]->-r requirements.txt (line 10)) (4.12.3)\n",
      "Requirement already satisfied: emoji in c:\\users\\abhij\\appdata\\local\\packages\\pythonsoftwarefoundation.python.3.11_qbz5n2kfra8p0\\localcache\\local-packages\\python311\\site-packages (from unstructured[md]->-r requirements.txt (line 10)) (2.12.1)\n",
      "Requirement already satisfied: python-iso639 in c:\\users\\abhij\\appdata\\local\\packages\\pythonsoftwarefoundation.python.3.11_qbz5n2kfra8p0\\localcache\\local-packages\\python311\\site-packages (from unstructured[md]->-r requirements.txt (line 10)) (2024.4.27)\n",
      "Requirement already satisfied: langdetect in c:\\users\\abhij\\appdata\\local\\packages\\pythonsoftwarefoundation.python.3.11_qbz5n2kfra8p0\\localcache\\local-packages\\python311\\site-packages (from unstructured[md]->-r requirements.txt (line 10)) (1.0.9)\n",
      "Requirement already satisfied: rapidfuzz in c:\\users\\abhij\\appdata\\local\\packages\\pythonsoftwarefoundation.python.3.11_qbz5n2kfra8p0\\localcache\\local-packages\\python311\\site-packages (from unstructured[md]->-r requirements.txt (line 10)) (3.9.3)\n",
      "Requirement already satisfied: backoff in c:\\users\\abhij\\appdata\\local\\packages\\pythonsoftwarefoundation.python.3.11_qbz5n2kfra8p0\\localcache\\local-packages\\python311\\site-packages (from unstructured[md]->-r requirements.txt (line 10)) (2.2.1)\n",
      "Requirement already satisfied: unstructured-client in c:\\users\\abhij\\appdata\\local\\packages\\pythonsoftwarefoundation.python.3.11_qbz5n2kfra8p0\\localcache\\local-packages\\python311\\site-packages (from unstructured[md]->-r requirements.txt (line 10)) (0.18.0)\n",
      "Requirement already satisfied: wrapt in c:\\users\\abhij\\appdata\\local\\packages\\pythonsoftwarefoundation.python.3.11_qbz5n2kfra8p0\\localcache\\local-packages\\python311\\site-packages (from unstructured[md]->-r requirements.txt (line 10)) (1.14.1)\n",
      "Requirement already satisfied: markdown in c:\\users\\abhij\\appdata\\local\\packages\\pythonsoftwarefoundation.python.3.11_qbz5n2kfra8p0\\localcache\\local-packages\\python311\\site-packages (from unstructured[md]->-r requirements.txt (line 10)) (3.5.2)\n",
      "Requirement already satisfied: aiosignal>=1.1.2 in c:\\users\\abhij\\appdata\\local\\packages\\pythonsoftwarefoundation.python.3.11_qbz5n2kfra8p0\\localcache\\local-packages\\python311\\site-packages (from aiohttp<4.0.0,>=3.8.3->langchain->-r requirements.txt (line 1)) (1.3.1)\n",
      "Requirement already satisfied: attrs>=17.3.0 in c:\\users\\abhij\\appdata\\local\\packages\\pythonsoftwarefoundation.python.3.11_qbz5n2kfra8p0\\localcache\\local-packages\\python311\\site-packages (from aiohttp<4.0.0,>=3.8.3->langchain->-r requirements.txt (line 1)) (23.2.0)\n",
      "Requirement already satisfied: frozenlist>=1.1.1 in c:\\users\\abhij\\appdata\\local\\packages\\pythonsoftwarefoundation.python.3.11_qbz5n2kfra8p0\\localcache\\local-packages\\python311\\site-packages (from aiohttp<4.0.0,>=3.8.3->langchain->-r requirements.txt (line 1)) (1.4.1)\n",
      "Requirement already satisfied: multidict<7.0,>=4.5 in c:\\users\\abhij\\appdata\\local\\packages\\pythonsoftwarefoundation.python.3.11_qbz5n2kfra8p0\\localcache\\local-packages\\python311\\site-packages (from aiohttp<4.0.0,>=3.8.3->langchain->-r requirements.txt (line 1)) (6.0.5)\n",
      "Requirement already satisfied: yarl<2.0,>=1.0 in c:\\users\\abhij\\appdata\\local\\packages\\pythonsoftwarefoundation.python.3.11_qbz5n2kfra8p0\\localcache\\local-packages\\python311\\site-packages (from aiohttp<4.0.0,>=3.8.3->langchain->-r requirements.txt (line 1)) (1.9.4)\n",
      "Requirement already satisfied: anyio<4.0.0,>=3.4.0 in c:\\users\\abhij\\appdata\\local\\packages\\pythonsoftwarefoundation.python.3.11_qbz5n2kfra8p0\\localcache\\local-packages\\python311\\site-packages (from asyncer<0.0.3,>=0.0.2->chainlit->-r requirements.txt (line 8)) (3.7.1)\n",
      "Requirement already satisfied: pyproject_hooks in c:\\users\\abhij\\appdata\\local\\packages\\pythonsoftwarefoundation.python.3.11_qbz5n2kfra8p0\\localcache\\local-packages\\python311\\site-packages (from build>=1.0.3->chromadb->-r requirements.txt (line 5)) (1.1.0)\n",
      "Requirement already satisfied: colorama in c:\\users\\abhij\\appdata\\local\\packages\\pythonsoftwarefoundation.python.3.11_qbz5n2kfra8p0\\localcache\\local-packages\\python311\\site-packages (from build>=1.0.3->chromadb->-r requirements.txt (line 5)) (0.4.4)\n",
      "Requirement already satisfied: marshmallow<4.0.0,>=3.18.0 in c:\\users\\abhij\\appdata\\local\\packages\\pythonsoftwarefoundation.python.3.11_qbz5n2kfra8p0\\localcache\\local-packages\\python311\\site-packages (from dataclasses-json<0.7,>=0.5.7->langchain-community->-r requirements.txt (line 2)) (3.21.2)\n",
      "Requirement already satisfied: typing-inspect<1,>=0.4.0 in c:\\users\\abhij\\appdata\\local\\packages\\pythonsoftwarefoundation.python.3.11_qbz5n2kfra8p0\\localcache\\local-packages\\python311\\site-packages (from dataclasses-json<0.7,>=0.5.7->langchain-community->-r requirements.txt (line 2)) (0.9.0)\n",
      "Requirement already satisfied: distro<2,>=1.7.0 in c:\\users\\abhij\\appdata\\local\\packages\\pythonsoftwarefoundation.python.3.11_qbz5n2kfra8p0\\localcache\\local-packages\\python311\\site-packages (from groq<1,>=0.4.1->langchain-groq->-r requirements.txt (line 7)) (1.9.0)\n",
      "Requirement already satisfied: sniffio in c:\\users\\abhij\\appdata\\local\\packages\\pythonsoftwarefoundation.python.3.11_qbz5n2kfra8p0\\localcache\\local-packages\\python311\\site-packages (from groq<1,>=0.4.1->langchain-groq->-r requirements.txt (line 7)) (1.3.1)\n",
      "Requirement already satisfied: certifi in c:\\users\\abhij\\appdata\\local\\packages\\pythonsoftwarefoundation.python.3.11_qbz5n2kfra8p0\\localcache\\local-packages\\python311\\site-packages (from httpx>=0.23.0->chainlit->-r requirements.txt (line 8)) (2023.7.22)\n",
      "Requirement already satisfied: httpcore==1.* in c:\\users\\abhij\\appdata\\local\\packages\\pythonsoftwarefoundation.python.3.11_qbz5n2kfra8p0\\localcache\\local-packages\\python311\\site-packages (from httpx>=0.23.0->chainlit->-r requirements.txt (line 8)) (1.0.4)\n",
      "Requirement already satisfied: idna in c:\\users\\abhij\\appdata\\local\\packages\\pythonsoftwarefoundation.python.3.11_qbz5n2kfra8p0\\localcache\\local-packages\\python311\\site-packages (from httpx>=0.23.0->chainlit->-r requirements.txt (line 8)) (3.7)\n",
      "Requirement already satisfied: h11<0.15,>=0.13 in c:\\users\\abhij\\appdata\\local\\packages\\pythonsoftwarefoundation.python.3.11_qbz5n2kfra8p0\\localcache\\local-packages\\python311\\site-packages (from httpcore==1.*->httpx>=0.23.0->chainlit->-r requirements.txt (line 8)) (0.14.0)\n",
      "Requirement already satisfied: filelock in c:\\users\\abhij\\appdata\\local\\packages\\pythonsoftwarefoundation.python.3.11_qbz5n2kfra8p0\\localcache\\local-packages\\python311\\site-packages (from huggingface-hub<0.21,>=0.20->fastembed->-r requirements.txt (line 4)) (3.13.1)\n",
      "Requirement already satisfied: fsspec>=2023.5.0 in c:\\users\\abhij\\appdata\\local\\packages\\pythonsoftwarefoundation.python.3.11_qbz5n2kfra8p0\\localcache\\local-packages\\python311\\site-packages (from huggingface-hub<0.21,>=0.20->fastembed->-r requirements.txt (line 4)) (2023.12.2)\n",
      "Requirement already satisfied: six>=1.9.0 in c:\\users\\abhij\\appdata\\local\\packages\\pythonsoftwarefoundation.python.3.11_qbz5n2kfra8p0\\localcache\\local-packages\\python311\\site-packages (from kubernetes>=28.1.0->chromadb->-r requirements.txt (line 5)) (1.16.0)\n",
      "Requirement already satisfied: python-dateutil>=2.5.3 in c:\\users\\abhij\\appdata\\local\\packages\\pythonsoftwarefoundation.python.3.11_qbz5n2kfra8p0\\localcache\\local-packages\\python311\\site-packages (from kubernetes>=28.1.0->chromadb->-r requirements.txt (line 5)) (2.8.2)\n",
      "Requirement already satisfied: google-auth>=1.0.1 in c:\\users\\abhij\\appdata\\local\\packages\\pythonsoftwarefoundation.python.3.11_qbz5n2kfra8p0\\localcache\\local-packages\\python311\\site-packages (from kubernetes>=28.1.0->chromadb->-r requirements.txt (line 5)) (2.27.0)\n",
      "Requirement already satisfied: websocket-client!=0.40.0,!=0.41.*,!=0.42.*,>=0.32.0 in c:\\users\\abhij\\appdata\\local\\packages\\pythonsoftwarefoundation.python.3.11_qbz5n2kfra8p0\\localcache\\local-packages\\python311\\site-packages (from kubernetes>=28.1.0->chromadb->-r requirements.txt (line 5)) (1.7.0)\n",
      "Requirement already satisfied: requests-oauthlib in c:\\users\\abhij\\appdata\\local\\packages\\pythonsoftwarefoundation.python.3.11_qbz5n2kfra8p0\\localcache\\local-packages\\python311\\site-packages (from kubernetes>=28.1.0->chromadb->-r requirements.txt (line 5)) (1.3.1)\n",
      "Requirement already satisfied: oauthlib>=3.2.2 in c:\\users\\abhij\\appdata\\local\\packages\\pythonsoftwarefoundation.python.3.11_qbz5n2kfra8p0\\localcache\\local-packages\\python311\\site-packages (from kubernetes>=28.1.0->chromadb->-r requirements.txt (line 5)) (3.2.2)\n",
      "Requirement already satisfied: urllib3>=1.24.2 in c:\\users\\abhij\\appdata\\local\\packages\\pythonsoftwarefoundation.python.3.11_qbz5n2kfra8p0\\localcache\\local-packages\\python311\\site-packages (from kubernetes>=28.1.0->chromadb->-r requirements.txt (line 5)) (1.26.18)\n",
      "Requirement already satisfied: jsonpatch<2.0,>=1.33 in c:\\users\\abhij\\appdata\\local\\packages\\pythonsoftwarefoundation.python.3.11_qbz5n2kfra8p0\\localcache\\local-packages\\python311\\site-packages (from langchain-core<0.3.0,>=0.2.0->langchain->-r requirements.txt (line 1)) (1.33)\n",
      "Requirement already satisfied: deprecated>=1.2.9.3 in c:\\users\\abhij\\appdata\\local\\packages\\pythonsoftwarefoundation.python.3.11_qbz5n2kfra8p0\\localcache\\local-packages\\python311\\site-packages (from llama-index-core>=0.10.29->llama-parse->-r requirements.txt (line 3)) (1.2.14)\n",
      "Requirement already satisfied: dirtyjson<2.0.0,>=1.0.8 in c:\\users\\abhij\\appdata\\local\\packages\\pythonsoftwarefoundation.python.3.11_qbz5n2kfra8p0\\localcache\\local-packages\\python311\\site-packages (from llama-index-core>=0.10.29->llama-parse->-r requirements.txt (line 3)) (1.0.8)\n",
      "Requirement already satisfied: llamaindex-py-client<0.2.0,>=0.1.18 in c:\\users\\abhij\\appdata\\local\\packages\\pythonsoftwarefoundation.python.3.11_qbz5n2kfra8p0\\localcache\\local-packages\\python311\\site-packages (from llama-index-core>=0.10.29->llama-parse->-r requirements.txt (line 3)) (0.1.19)\n",
      "Requirement already satisfied: networkx>=3.0 in c:\\users\\abhij\\appdata\\local\\packages\\pythonsoftwarefoundation.python.3.11_qbz5n2kfra8p0\\localcache\\local-packages\\python311\\site-packages (from llama-index-core>=0.10.29->llama-parse->-r requirements.txt (line 3)) (3.3)\n",
      "Requirement already satisfied: openai>=1.1.0 in c:\\users\\abhij\\appdata\\local\\packages\\pythonsoftwarefoundation.python.3.11_qbz5n2kfra8p0\\localcache\\local-packages\\python311\\site-packages (from llama-index-core>=0.10.29->llama-parse->-r requirements.txt (line 3)) (1.30.5)\n",
      "Requirement already satisfied: pandas in c:\\users\\abhij\\appdata\\local\\packages\\pythonsoftwarefoundation.python.3.11_qbz5n2kfra8p0\\localcache\\local-packages\\python311\\site-packages (from llama-index-core>=0.10.29->llama-parse->-r requirements.txt (line 3)) (1.5.3)\n",
      "Requirement already satisfied: pillow>=9.0.0 in c:\\users\\abhij\\appdata\\local\\packages\\pythonsoftwarefoundation.python.3.11_qbz5n2kfra8p0\\localcache\\local-packages\\python311\\site-packages (from llama-index-core>=0.10.29->llama-parse->-r requirements.txt (line 3)) (10.2.0)\n",
      "Requirement already satisfied: tiktoken>=0.3.3 in c:\\users\\abhij\\appdata\\local\\packages\\pythonsoftwarefoundation.python.3.11_qbz5n2kfra8p0\\localcache\\local-packages\\python311\\site-packages (from llama-index-core>=0.10.29->llama-parse->-r requirements.txt (line 3)) (0.7.0)\n",
      "Requirement already satisfied: win32-setctime>=1.0.0 in c:\\users\\abhij\\appdata\\local\\packages\\pythonsoftwarefoundation.python.3.11_qbz5n2kfra8p0\\localcache\\local-packages\\python311\\site-packages (from loguru<0.8.0,>=0.7.2->fastembed->-r requirements.txt (line 4)) (1.1.0)\n",
      "Requirement already satisfied: joblib in c:\\users\\abhij\\appdata\\local\\packages\\pythonsoftwarefoundation.python.3.11_qbz5n2kfra8p0\\localcache\\local-packages\\python311\\site-packages (from nltk->unstructured[md]->-r requirements.txt (line 10)) (1.3.2)\n",
      "Requirement already satisfied: regex>=2021.8.3 in c:\\users\\abhij\\appdata\\local\\packages\\pythonsoftwarefoundation.python.3.11_qbz5n2kfra8p0\\localcache\\local-packages\\python311\\site-packages (from nltk->unstructured[md]->-r requirements.txt (line 10)) (2024.5.15)\n",
      "Requirement already satisfied: protobuf>=3.20.2 in c:\\users\\abhij\\appdata\\local\\packages\\pythonsoftwarefoundation.python.3.11_qbz5n2kfra8p0\\localcache\\local-packages\\python311\\site-packages (from onnx<2.0.0,>=1.15.0->fastembed->-r requirements.txt (line 4)) (4.25.3)\n",
      "Requirement already satisfied: coloredlogs in c:\\users\\abhij\\appdata\\local\\packages\\pythonsoftwarefoundation.python.3.11_qbz5n2kfra8p0\\localcache\\local-packages\\python311\\site-packages (from onnxruntime<2.0.0,>=1.17.0->fastembed->-r requirements.txt (line 4)) (15.0.1)\n",
      "Requirement already satisfied: flatbuffers in c:\\users\\abhij\\appdata\\local\\packages\\pythonsoftwarefoundation.python.3.11_qbz5n2kfra8p0\\localcache\\local-packages\\python311\\site-packages (from onnxruntime<2.0.0,>=1.17.0->fastembed->-r requirements.txt (line 4)) (23.5.26)\n",
      "Requirement already satisfied: sympy in c:\\users\\abhij\\appdata\\local\\packages\\pythonsoftwarefoundation.python.3.11_qbz5n2kfra8p0\\localcache\\local-packages\\python311\\site-packages (from onnxruntime<2.0.0,>=1.17.0->fastembed->-r requirements.txt (line 4)) (1.12)\n",
      "Requirement already satisfied: importlib-metadata<=7.0,>=6.0 in c:\\users\\abhij\\appdata\\local\\packages\\pythonsoftwarefoundation.python.3.11_qbz5n2kfra8p0\\localcache\\local-packages\\python311\\site-packages (from opentelemetry-api>=1.2.0->chromadb->-r requirements.txt (line 5)) (7.0.0)\n",
      "Requirement already satisfied: googleapis-common-protos~=1.52 in c:\\users\\abhij\\appdata\\local\\packages\\pythonsoftwarefoundation.python.3.11_qbz5n2kfra8p0\\localcache\\local-packages\\python311\\site-packages (from opentelemetry-exporter-otlp-proto-grpc>=1.2.0->chromadb->-r requirements.txt (line 5)) (1.63.0)\n",
      "Requirement already satisfied: opentelemetry-exporter-otlp-proto-common==1.24.0 in c:\\users\\abhij\\appdata\\local\\packages\\pythonsoftwarefoundation.python.3.11_qbz5n2kfra8p0\\localcache\\local-packages\\python311\\site-packages (from opentelemetry-exporter-otlp-proto-grpc>=1.2.0->chromadb->-r requirements.txt (line 5)) (1.24.0)\n",
      "Requirement already satisfied: opentelemetry-proto==1.24.0 in c:\\users\\abhij\\appdata\\local\\packages\\pythonsoftwarefoundation.python.3.11_qbz5n2kfra8p0\\localcache\\local-packages\\python311\\site-packages (from opentelemetry-exporter-otlp-proto-grpc>=1.2.0->chromadb->-r requirements.txt (line 5)) (1.24.0)\n",
      "Requirement already satisfied: opentelemetry-instrumentation-asgi==0.45b0 in c:\\users\\abhij\\appdata\\local\\packages\\pythonsoftwarefoundation.python.3.11_qbz5n2kfra8p0\\localcache\\local-packages\\python311\\site-packages (from opentelemetry-instrumentation-fastapi>=0.41b0->chromadb->-r requirements.txt (line 5)) (0.45b0)\n",
      "Requirement already satisfied: opentelemetry-instrumentation==0.45b0 in c:\\users\\abhij\\appdata\\local\\packages\\pythonsoftwarefoundation.python.3.11_qbz5n2kfra8p0\\localcache\\local-packages\\python311\\site-packages (from opentelemetry-instrumentation-fastapi>=0.41b0->chromadb->-r requirements.txt (line 5)) (0.45b0)\n",
      "Requirement already satisfied: opentelemetry-semantic-conventions==0.45b0 in c:\\users\\abhij\\appdata\\local\\packages\\pythonsoftwarefoundation.python.3.11_qbz5n2kfra8p0\\localcache\\local-packages\\python311\\site-packages (from opentelemetry-instrumentation-fastapi>=0.41b0->chromadb->-r requirements.txt (line 5)) (0.45b0)\n",
      "Requirement already satisfied: opentelemetry-util-http==0.45b0 in c:\\users\\abhij\\appdata\\local\\packages\\pythonsoftwarefoundation.python.3.11_qbz5n2kfra8p0\\localcache\\local-packages\\python311\\site-packages (from opentelemetry-instrumentation-fastapi>=0.41b0->chromadb->-r requirements.txt (line 5)) (0.45b0)\n",
      "Requirement already satisfied: setuptools>=16.0 in c:\\users\\abhij\\appdata\\local\\packages\\pythonsoftwarefoundation.python.3.11_qbz5n2kfra8p0\\localcache\\local-packages\\python311\\site-packages (from opentelemetry-instrumentation==0.45b0->opentelemetry-instrumentation-fastapi>=0.41b0->chromadb->-r requirements.txt (line 5)) (70.0.0)\n",
      "Requirement already satisfied: asgiref~=3.0 in c:\\users\\abhij\\appdata\\local\\packages\\pythonsoftwarefoundation.python.3.11_qbz5n2kfra8p0\\localcache\\local-packages\\python311\\site-packages (from opentelemetry-instrumentation-asgi==0.45b0->opentelemetry-instrumentation-fastapi>=0.41b0->chromadb->-r requirements.txt (line 5)) (3.8.1)\n",
      "Requirement already satisfied: monotonic>=1.5 in c:\\users\\abhij\\appdata\\local\\packages\\pythonsoftwarefoundation.python.3.11_qbz5n2kfra8p0\\localcache\\local-packages\\python311\\site-packages (from posthog>=2.4.0->chromadb->-r requirements.txt (line 5)) (1.6)\n",
      "Requirement already satisfied: bidict>=0.21.0 in c:\\users\\abhij\\appdata\\local\\packages\\pythonsoftwarefoundation.python.3.11_qbz5n2kfra8p0\\localcache\\local-packages\\python311\\site-packages (from python-socketio<6.0.0,>=5.11.0->chainlit->-r requirements.txt (line 8)) (0.23.1)\n",
      "Requirement already satisfied: python-engineio>=4.8.0 in c:\\users\\abhij\\appdata\\local\\packages\\pythonsoftwarefoundation.python.3.11_qbz5n2kfra8p0\\localcache\\local-packages\\python311\\site-packages (from python-socketio<6.0.0,>=5.11.0->chainlit->-r requirements.txt (line 8)) (4.9.1)\n",
      "Requirement already satisfied: charset-normalizer<4,>=2 in c:\\users\\abhij\\appdata\\local\\packages\\pythonsoftwarefoundation.python.3.11_qbz5n2kfra8p0\\localcache\\local-packages\\python311\\site-packages (from requests<3,>=2->langchain->-r requirements.txt (line 1)) (3.3.2)\n",
      "Requirement already satisfied: greenlet!=0.4.17 in c:\\users\\abhij\\appdata\\local\\packages\\pythonsoftwarefoundation.python.3.11_qbz5n2kfra8p0\\localcache\\local-packages\\python311\\site-packages (from SQLAlchemy<3,>=1.4->langchain->-r requirements.txt (line 1)) (3.0.3)\n",
      "Requirement already satisfied: shellingham>=1.3.0 in c:\\users\\abhij\\appdata\\local\\packages\\pythonsoftwarefoundation.python.3.11_qbz5n2kfra8p0\\localcache\\local-packages\\python311\\site-packages (from typer>=0.9.0->chromadb->-r requirements.txt (line 5)) (1.5.4)\n",
      "Requirement already satisfied: rich>=10.11.0 in c:\\users\\abhij\\appdata\\local\\packages\\pythonsoftwarefoundation.python.3.11_qbz5n2kfra8p0\\localcache\\local-packages\\python311\\site-packages (from typer>=0.9.0->chromadb->-r requirements.txt (line 5)) (13.7.1)\n",
      "Requirement already satisfied: opentelemetry-exporter-otlp~=1.24 in c:\\users\\abhij\\appdata\\local\\packages\\pythonsoftwarefoundation.python.3.11_qbz5n2kfra8p0\\localcache\\local-packages\\python311\\site-packages (from uptrace<2.0.0,>=1.22.0->chainlit->-r requirements.txt (line 8)) (1.24.0)\n",
      "Requirement already satisfied: httptools>=0.5.0 in c:\\users\\abhij\\appdata\\local\\packages\\pythonsoftwarefoundation.python.3.11_qbz5n2kfra8p0\\localcache\\local-packages\\python311\\site-packages (from uvicorn[standard]>=0.18.3->chromadb->-r requirements.txt (line 5)) (0.6.1)\n",
      "Requirement already satisfied: websockets>=10.4 in c:\\users\\abhij\\appdata\\local\\packages\\pythonsoftwarefoundation.python.3.11_qbz5n2kfra8p0\\localcache\\local-packages\\python311\\site-packages (from uvicorn[standard]>=0.18.3->chromadb->-r requirements.txt (line 5)) (12.0)\n",
      "Requirement already satisfied: soupsieve>1.2 in c:\\users\\abhij\\appdata\\local\\packages\\pythonsoftwarefoundation.python.3.11_qbz5n2kfra8p0\\localcache\\local-packages\\python311\\site-packages (from beautifulsoup4->unstructured[md]->-r requirements.txt (line 10)) (2.5)\n",
      "Requirement already satisfied: dataclasses-json-speakeasy>=0.5.11 in c:\\users\\abhij\\appdata\\local\\packages\\pythonsoftwarefoundation.python.3.11_qbz5n2kfra8p0\\localcache\\local-packages\\python311\\site-packages (from unstructured-client->unstructured[md]->-r requirements.txt (line 10)) (0.5.11)\n",
      "Requirement already satisfied: jsonpath-python>=1.0.6 in c:\\users\\abhij\\appdata\\local\\packages\\pythonsoftwarefoundation.python.3.11_qbz5n2kfra8p0\\localcache\\local-packages\\python311\\site-packages (from unstructured-client->unstructured[md]->-r requirements.txt (line 10)) (1.0.6)\n",
      "Requirement already satisfied: mypy-extensions>=1.0.0 in c:\\users\\abhij\\appdata\\local\\packages\\pythonsoftwarefoundation.python.3.11_qbz5n2kfra8p0\\localcache\\local-packages\\python311\\site-packages (from unstructured-client->unstructured[md]->-r requirements.txt (line 10)) (1.0.0)\n",
      "Requirement already satisfied: cachetools<6.0,>=2.0.0 in c:\\users\\abhij\\appdata\\local\\packages\\pythonsoftwarefoundation.python.3.11_qbz5n2kfra8p0\\localcache\\local-packages\\python311\\site-packages (from google-auth>=1.0.1->kubernetes>=28.1.0->chromadb->-r requirements.txt (line 5)) (5.3.2)\n",
      "Requirement already satisfied: pyasn1-modules>=0.2.1 in c:\\users\\abhij\\appdata\\local\\packages\\pythonsoftwarefoundation.python.3.11_qbz5n2kfra8p0\\localcache\\local-packages\\python311\\site-packages (from google-auth>=1.0.1->kubernetes>=28.1.0->chromadb->-r requirements.txt (line 5)) (0.3.0)\n",
      "Requirement already satisfied: rsa<5,>=3.1.4 in c:\\users\\abhij\\appdata\\local\\packages\\pythonsoftwarefoundation.python.3.11_qbz5n2kfra8p0\\localcache\\local-packages\\python311\\site-packages (from google-auth>=1.0.1->kubernetes>=28.1.0->chromadb->-r requirements.txt (line 5)) (4.7.2)\n",
      "Requirement already satisfied: zipp>=0.5 in c:\\users\\abhij\\appdata\\local\\packages\\pythonsoftwarefoundation.python.3.11_qbz5n2kfra8p0\\localcache\\local-packages\\python311\\site-packages (from importlib-metadata<=7.0,>=6.0->opentelemetry-api>=1.2.0->chromadb->-r requirements.txt (line 5)) (3.19.0)\n",
      "Requirement already satisfied: jsonpointer>=1.9 in c:\\users\\abhij\\appdata\\local\\packages\\pythonsoftwarefoundation.python.3.11_qbz5n2kfra8p0\\localcache\\local-packages\\python311\\site-packages (from jsonpatch<2.0,>=1.33->langchain-core<0.3.0,>=0.2.0->langchain->-r requirements.txt (line 1)) (2.4)\n",
      "Requirement already satisfied: opentelemetry-exporter-otlp-proto-http==1.24.0 in c:\\users\\abhij\\appdata\\local\\packages\\pythonsoftwarefoundation.python.3.11_qbz5n2kfra8p0\\localcache\\local-packages\\python311\\site-packages (from opentelemetry-exporter-otlp~=1.24->uptrace<2.0.0,>=1.22.0->chainlit->-r requirements.txt (line 8)) (1.24.0)\n",
      "Requirement already satisfied: simple-websocket>=0.10.0 in c:\\users\\abhij\\appdata\\local\\packages\\pythonsoftwarefoundation.python.3.11_qbz5n2kfra8p0\\localcache\\local-packages\\python311\\site-packages (from python-engineio>=4.8.0->python-socketio<6.0.0,>=5.11.0->chainlit->-r requirements.txt (line 8)) (1.0.0)\n",
      "Requirement already satisfied: markdown-it-py>=2.2.0 in c:\\users\\abhij\\appdata\\local\\packages\\pythonsoftwarefoundation.python.3.11_qbz5n2kfra8p0\\localcache\\local-packages\\python311\\site-packages (from rich>=10.11.0->typer>=0.9.0->chromadb->-r requirements.txt (line 5)) (3.0.0)\n",
      "Requirement already satisfied: pygments<3.0.0,>=2.13.0 in c:\\users\\abhij\\appdata\\local\\packages\\pythonsoftwarefoundation.python.3.11_qbz5n2kfra8p0\\localcache\\local-packages\\python311\\site-packages (from rich>=10.11.0->typer>=0.9.0->chromadb->-r requirements.txt (line 5)) (2.17.2)\n",
      "Requirement already satisfied: humanfriendly>=9.1 in c:\\users\\abhij\\appdata\\local\\packages\\pythonsoftwarefoundation.python.3.11_qbz5n2kfra8p0\\localcache\\local-packages\\python311\\site-packages (from coloredlogs->onnxruntime<2.0.0,>=1.17.0->fastembed->-r requirements.txt (line 4)) (10.0)\n",
      "Requirement already satisfied: pytz>=2020.1 in c:\\users\\abhij\\appdata\\local\\packages\\pythonsoftwarefoundation.python.3.11_qbz5n2kfra8p0\\localcache\\local-packages\\python311\\site-packages (from pandas->llama-index-core>=0.10.29->llama-parse->-r requirements.txt (line 3)) (2022.7.1)\n",
      "Requirement already satisfied: mpmath>=0.19 in c:\\users\\abhij\\appdata\\local\\packages\\pythonsoftwarefoundation.python.3.11_qbz5n2kfra8p0\\localcache\\local-packages\\python311\\site-packages (from sympy->onnxruntime<2.0.0,>=1.17.0->fastembed->-r requirements.txt (line 4)) (1.3.0)\n",
      "Requirement already satisfied: pyreadline3 in c:\\users\\abhij\\appdata\\local\\packages\\pythonsoftwarefoundation.python.3.11_qbz5n2kfra8p0\\localcache\\local-packages\\python311\\site-packages (from humanfriendly>=9.1->coloredlogs->onnxruntime<2.0.0,>=1.17.0->fastembed->-r requirements.txt (line 4)) (3.4.1)\n",
      "Requirement already satisfied: mdurl~=0.1 in c:\\users\\abhij\\appdata\\local\\packages\\pythonsoftwarefoundation.python.3.11_qbz5n2kfra8p0\\localcache\\local-packages\\python311\\site-packages (from markdown-it-py>=2.2.0->rich>=10.11.0->typer>=0.9.0->chromadb->-r requirements.txt (line 5)) (0.1.2)\n",
      "Requirement already satisfied: pyasn1<0.6.0,>=0.4.6 in c:\\users\\abhij\\appdata\\local\\packages\\pythonsoftwarefoundation.python.3.11_qbz5n2kfra8p0\\localcache\\local-packages\\python311\\site-packages (from pyasn1-modules>=0.2.1->google-auth>=1.0.1->kubernetes>=28.1.0->chromadb->-r requirements.txt (line 5)) (0.5.1)\n",
      "Requirement already satisfied: wsproto in c:\\users\\abhij\\appdata\\local\\packages\\pythonsoftwarefoundation.python.3.11_qbz5n2kfra8p0\\localcache\\local-packages\\python311\\site-packages (from simple-websocket>=0.10.0->python-engineio>=4.8.0->python-socketio<6.0.0,>=5.11.0->chainlit->-r requirements.txt (line 8)) (1.2.0)\n"
     ]
    }
   ],
   "source": [
    "!pip install -r requirements.txt"
   ]
  },
  {
   "cell_type": "code",
   "execution_count": 15,
   "metadata": {},
   "outputs": [],
   "source": [
    "from llama_parse import LlamaParse\n",
    "\n",
    "parser = LlamaParse(\n",
    "    api_key=\"llx\",  # can also be set in your env as LLAMA_CLOUD_API_KEY\n",
    "    result_type=\"markdown\",  # \"markdown\" and \"text\" are available\n",
    "    verbose=True\n",
    ")"
   ]
  },
  {
   "cell_type": "code",
   "execution_count": 16,
   "metadata": {},
   "outputs": [],
   "source": [
    "#from google.colab import userdata\n",
    "\n",
    "#llamaparse_api_key = userdata.get('llx-4bCLqC2vZtQPDWxLnoOKYw4WdtjUZtXu3Vs9HULFa6pyW5ZR')\n",
    "#groq_api_key = userdata.get(\"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\")"
   ]
  },
  {
   "cell_type": "code",
   "execution_count": 17,
   "metadata": {},
   "outputs": [],
   "source": [
    "##### LLAMAPARSE #####\n",
    "from llama_parse import LlamaParse\n",
    "\n",
    "from langchain.text_splitter import RecursiveCharacterTextSplitter\n",
    "from langchain_community.embeddings.fastembed import FastEmbedEmbeddings\n",
    "from langchain_community.vectorstores import Chroma\n",
    "from langchain_community.document_loaders import DirectoryLoader\n",
    "from langchain_community.document_loaders import UnstructuredMarkdownLoader\n",
    "from langchain.prompts import PromptTemplate\n",
    "from langchain.chains import RetrievalQA\n",
    "#\n",
    "from groq import Groq\n",
    "from langchain_groq import ChatGroq\n",
    "#\n",
    "import joblib\n",
    "import os\n",
    "import nest_asyncio  # noqa: E402\n",
    "nest_asyncio.apply()"
   ]
  },
  {
   "cell_type": "code",
   "execution_count": 18,
   "metadata": {},
   "outputs": [],
   "source": [
    "#!mkdir data\n",
    "#\n",
    "def load_or_parse_data():\n",
    "    data_file = \"./data/parsed_data.pkl\"\n",
    "\n",
    "    if os.path.exists(data_file):\n",
    "        # Load the parsed data from the file\n",
    "        parsed_data = joblib.load(data_file)\n",
    "    else:\n",
    "        # Perform the parsing step and store the result in llama_parse_documents\n",
    "        parsingInstructionUber10k = \"\"\"The provided document is a based on Yoga Therapy Training - what it is, how it can aid\n",
    "        in mitigating or curing ailments like Back Pain, Allergies etc..\n",
    "        Try to be precise while answering the questions\"\"\"\n",
    "        parser = LlamaParse(api_key=\"llx-4bCLqC2vZtQPDWxLnoOKYw4WdtjUZtXu3Vs9HULFa6pyW5ZR\",\n",
    "                            result_type=\"markdown\",\n",
    "                            parsing_instruction=parsingInstructionUber10k,\n",
    "                            max_timeout=5000,)\n",
    "        llama_parse_documents = parser.load_data(\"./data/yoga-therapy.pdf\")\n",
    "\n",
    "\n",
    "        # Save the parsed data to a file\n",
    "        print(\"Saving the parse results in .pkl format ..........\")\n",
    "        joblib.dump(llama_parse_documents, data_file)\n",
    "\n",
    "        # Set the parsed data to the variable\n",
    "        parsed_data = llama_parse_documents\n",
    "\n",
    "    return parsed_data"
   ]
  },
  {
   "cell_type": "code",
   "execution_count": 19,
   "metadata": {},
   "outputs": [],
   "source": [
    "# Create vector database\n",
    "def create_vector_database():\n",
    "    \"\"\"\n",
    "    Creates a vector database using document loaders and embeddings.\n",
    "\n",
    "    This function loads urls,\n",
    "    splits the loaded documents into chunks, transforms them into embeddings using OllamaEmbeddings,\n",
    "    and finally persists the embeddings into a Chroma vector database.\n",
    "\n",
    "    \"\"\"\n",
    "    # Call the function to either load or parse the data\n",
    "    llama_parse_documents = load_or_parse_data()\n",
    "    print(llama_parse_documents[0].text[:300])\n",
    "\n",
    "    with open('data/output.md','a',encoding='utf-8') as f:  # Open the file in append mode ('a')\n",
    "        for doc in llama_parse_documents:\n",
    "            f.write(doc.text + '\\n')\n",
    "\n",
    "    markdown_path = \"data/output.md\"\n",
    "\n",
    "    # Attempt to read the file with error handling\n",
    "    try:\n",
    "        with open(markdown_path, 'r', encoding='utf-8', errors='ignore') as f:\n",
    "            data = f.read()\n",
    "    except UnicodeDecodeError as e:\n",
    "        print(f\"Error reading file: {e}\")\n",
    "\n",
    "    # Proceed with loading if no errors\n",
    "    loader = UnstructuredMarkdownLoader(markdown_path)\n",
    "\n",
    "   #loader = DirectoryLoader('data/', glob=\"**/*.md\", show_progress=True)\n",
    "    documents = loader.load()\n",
    "    # Split loaded documents into chunks\n",
    "    text_splitter = RecursiveCharacterTextSplitter(chunk_size=2000, chunk_overlap=100)\n",
    "    docs = text_splitter.split_documents(documents)\n",
    "\n",
    "    #len(docs)\n",
    "    print(f\"length of documents loaded: {len(documents)}\")\n",
    "    print(f\"total number of document chunks generated :{len(docs)}\")\n",
    "    #docs[0]\n",
    "\n",
    "    # Initialize Embeddings\n",
    "    embed_model = FastEmbedEmbeddings(model_name=\"BAAI/bge-base-en-v1.5\")\n",
    "\n",
    "    # Create and persist a Chroma vector database from the chunked documents\n",
    "    vs = Chroma.from_documents(\n",
    "        documents=docs,\n",
    "        embedding=embed_model,\n",
    "        persist_directory=\"chroma_db_llamaparse1\",  # Local mode with in-memory storage only\n",
    "        collection_name=\"rag\"\n",
    "    )\n",
    "\n",
    "    #query it\n",
    "    #query = \"what is the agend of Financial Statements for 2022 ?\"\n",
    "    #found_doc = qdrant.similarity_search(query, k=3)\n",
    "    #print(found_doc[0][:100])\n",
    "    #print(qdrant.get())\n",
    "\n",
    "    print('Vector DB created successfully !')\n",
    "    return vs,embed_model"
   ]
  },
  {
   "cell_type": "code",
   "execution_count": 20,
   "metadata": {},
   "outputs": [
    {
     "name": "stdout",
     "output_type": "stream",
     "text": [
      "#\n",
      "\n",
      "# Yoga Therapy Training\n",
      "\n",
      "# Yoga Therapy Training\n",
      "\n",
      "Yoga Therapy, presented by Nancy Wile at Weston Yoga, is a specialized form of yoga that can aid in mitigating or curing various ailments. It focuses on using yoga practices and techniques to address specific health issues and promote overall well\n",
      "length of documents loaded: 1\n",
      "total number of document chunks generated :138\n"
     ]
    },
    {
     "name": "stderr",
     "output_type": "stream",
     "text": [
      "Fetching 8 files: 100%|██████████| 8/8 [00:00<?, ?it/s]\n"
     ]
    },
    {
     "name": "stdout",
     "output_type": "stream",
     "text": [
      "Vector DB created successfully !\n"
     ]
    }
   ],
   "source": [
    "vs,embed_model = create_vector_database()"
   ]
  },
  {
   "cell_type": "code",
   "execution_count": 21,
   "metadata": {},
   "outputs": [],
   "source": [
    "chat_model = ChatGroq(temperature=0,\n",
    "                      model_name=\"mixtral-8x7b-32768\",\n",
    "                      api_key=\"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\")\n",
    "\n",
    "# chat_model = ChatGroq(temperature=0,\n",
    "#                       model_name=\"mixtral-8x7b-32768\",\n",
    "#                       api_key=\"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\")"
   ]
  },
  {
   "cell_type": "code",
   "execution_count": 22,
   "metadata": {},
   "outputs": [],
   "source": [
    "vectorstore = Chroma(embedding_function=embed_model,\n",
    "                    persist_directory=\"chroma_db_llamaparse1\",\n",
    "                    collection_name=\"rag\")\n",
    "#\n",
    "retriever=vectorstore.as_retriever(search_kwargs={'k': 3})"
   ]
  },
  {
   "cell_type": "code",
   "execution_count": 23,
   "metadata": {},
   "outputs": [],
   "source": [
    "custom_prompt_template = \"\"\"Use the following pieces of information to answer the user's question.\n",
    "If you don't know the answer, just say that you don't know, don't try to make up an answer.\n",
    "\n",
    "Context: {context}\n",
    "Question: {question}\n",
    "\n",
    "Only return the helpful answer below and nothing else.\n",
    "Helpful answer:\n",
    "\"\"\""
   ]
  },
  {
   "cell_type": "code",
   "execution_count": 52,
   "metadata": {},
   "outputs": [
    {
     "data": {
      "text/plain": [
       "PromptTemplate(input_variables=['context', 'question'], template=\"Use the following pieces of information to answer the user's question.\\nIf you don't know the answer, just say that you don't know, don't try to make up an answer.\\n\\nContext: {context}\\nQuestion: {question}\\n\\nOnly return the helpful answer below and nothing else.\\nHelpful answer:\\n\")"
      ]
     },
     "execution_count": 52,
     "metadata": {},
     "output_type": "execute_result"
    }
   ],
   "source": [
    "def set_custom_prompt():\n",
    "    \"\"\"\n",
    "    Prompt template for QA retrieval for each vectorstore\n",
    "    \"\"\"\n",
    "    prompt = PromptTemplate(template=custom_prompt_template,\n",
    "                            input_variables=['context', 'question'])\n",
    "    return prompt\n",
    "#\n",
    "prompt = set_custom_prompt()\n",
    "prompt\n",
    "\n",
    "########################### RESPONSE ###########################\n",
    "PromptTemplate(input_variables=['context', 'question'], template=custom_prompt_template)"
   ]
  },
  {
   "cell_type": "code",
   "execution_count": 53,
   "metadata": {},
   "outputs": [],
   "source": [
    "qa = RetrievalQA.from_chain_type(llm=chat_model,\n",
    "                               chain_type=\"stuff\",\n",
    "                               retriever=retriever,\n",
    "                               return_source_documents=True,\n",
    "                               chain_type_kwargs={\"prompt\": prompt})"
   ]
  },
  {
   "cell_type": "code",
   "execution_count": 58,
   "metadata": {},
   "outputs": [],
   "source": [
    "response = qa.invoke({\"query\": \"I have anxiety\"})"
   ]
  },
  {
   "cell_type": "code",
   "execution_count": 59,
   "metadata": {},
   "outputs": [
    {
     "name": "stdout",
     "output_type": "stream",
     "text": [
      "You can try Viloma Pranayama, a yoga therapy technique that can help relax the body and focus the mind. Here are the steps:\n",
      "\n",
      "1. Lie straight and relaxed on your back. Close your eyes and lie quietly for a minute.\n",
      "2. Exhale completely until lungs feel empty.\n",
      "3. Inhale for 2 or 3 seconds, pause and hold the breath for 2 or 3 seconds.\n",
      "4. Without exhaling, inhale again for 2 or 3 seconds.\n",
      "5. Repeat this process until the lungs are completely full.\n",
      "6. Hold the breath for a second or two.\n",
      "7. Exhale for 2 or 3 seconds, pause and hold the breath for 2 or 3 seconds.\n",
      "8. Repeat this process until the lungs feel completely empty.\n",
      "9. Repeat the inhale and exhale 3-4 more times.\n",
      "10. After your last exhalation, gradually relax your abdomen.\n",
      "\n",
      "Additionally, practicing seated forward folds and body scan can also be helpful for anxiety. Seated forward folds can help quiet the mind and body, while the body scan can help relax different body parts.\n"
     ]
    }
   ],
   "source": [
    "print(response['result'])"
   ]
  },
  {
   "cell_type": "code",
   "execution_count": null,
   "metadata": {},
   "outputs": [],
   "source": []
  }
 ],
 "metadata": {
  "kernelspec": {
   "display_name": "Python 3",
   "language": "python",
   "name": "python3"
  },
  "language_info": {
   "codemirror_mode": {
    "name": "ipython",
    "version": 3
   },
   "file_extension": ".py",
   "mimetype": "text/x-python",
   "name": "python",
   "nbconvert_exporter": "python",
   "pygments_lexer": "ipython3",
   "version": "3.11.9"
  }
 },
 "nbformat": 4,
 "nbformat_minor": 2
}
